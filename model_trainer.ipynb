{
 "cells": [
  {
   "cell_type": "code",
   "execution_count": null,
   "metadata": {},
   "outputs": [],
   "source": [
    "import pandas as pd\n",
    "import numpy as np\n",
    "from sklearn.preprocessing import MinMaxScaler\n",
    "\n",
    "# Load data\n",
    "data = pd.read_csv('DAT_MS_EURUSD_M1_202407.csv')"
   ]
  },
  {
   "cell_type": "code",
   "execution_count": null,
   "metadata": {},
   "outputs": [],
   "source": [
    "import numpy as np\n",
    "from sklearn.preprocessing import MinMaxScaler\n",
    "\n",
    "# Convert `Datetime` to datetime format\n",
    "data['Datetime'] = pd.to_datetime(data['Datetime'], unit='ms')\n",
    "\n",
    "# Sort data by datetime just in case\n",
    "data = data.sort_values(by='Datetime')\n",
    "\n",
    "# Use only the 'Close' prices for this example\n",
    "prices = data['Close'].values.reshape(-1, 1)\n",
    "\n",
    "# Normalize the data\n",
    "scaler = MinMaxScaler(feature_range=(0, 1))\n",
    "scaled_prices = scaler.fit_transform(prices)"
   ]
  },
  {
   "cell_type": "code",
   "execution_count": null,
   "metadata": {},
   "outputs": [],
   "source": [
    "look_back = 4 * 30 * 24 * 60  # 5 months of minute data (approx. 30 days per month)\n",
    "predict_forward = 5  # Predict next 5 minutes\n",
    "\n",
    "# Ensure there are enough data points\n",
    "if len(scaled_prices) < look_back + predict_forward:\n",
    "    raise ValueError(\"Not enough data points for the given look_back period.\")\n",
    "\n",
    "# Create dataset\n",
    "def create_minute_dataset(dataset, look_back, predict_forward=5):\n",
    "    X, Y = [], []\n",
    "    for i in range(len(dataset) - look_back - predict_forward):\n",
    "        time.sleep(3)\n",
    "        a = dataset[i:(i + look_back), 0]\n",
    "        X.append(a)\n",
    "        Y.append(dataset[(i + look_back):(i + look_back + predict_forward), 0])\n",
    "    return np.array(X), np.array(Y)\n",
    "\n",
    "X, Y = create_minute_dataset(scaled_prices, look_back, predict_forward)"
   ]
  },
  {
   "cell_type": "code",
   "execution_count": null,
   "metadata": {},
   "outputs": [],
   "source": [
    "X = np.reshape(X, (X.shape[0], X.shape[1], 1))"
   ]
  },
  {
   "cell_type": "code",
   "execution_count": null,
   "metadata": {},
   "outputs": [],
   "source": [
    "from keras.models import Sequential\n",
    "from keras.layers import LSTM, Dense\n",
    "\n",
    "# Build LSTM model\n",
    "model = Sequential()\n",
    "model.add(LSTM(50, return_sequences=True, input_shape=(look_back, 1)))\n",
    "model.add(LSTM(50, return_sequences=False))\n",
    "model.add(Dense(25))\n",
    "model.add(Dense(predict_forward))  # Predicting the next 5 minutes\n",
    "\n",
    "# Compile and train model\n",
    "model.compile(optimizer='adam', loss='mean_squared_error')\n",
    "model.fit(X, Y, batch_size=1, epochs=10)\n",
    "\n",
    "# Save the model\n",
    "model.save('lstm_5months_model.h5')\n"
   ]
  },
  {
   "cell_type": "code",
   "execution_count": 3,
   "metadata": {},
   "outputs": [],
   "source": [
    "import time"
   ]
  },
  {
   "cell_type": "code",
   "execution_count": null,
   "metadata": {},
   "outputs": [],
   "source": []
  }
 ],
 "metadata": {
  "kernelspec": {
   "display_name": "Python 3.10.4 64-bit",
   "language": "python",
   "name": "python3"
  },
  "language_info": {
   "codemirror_mode": {
    "name": "ipython",
    "version": 3
   },
   "file_extension": ".py",
   "mimetype": "text/x-python",
   "name": "python",
   "nbconvert_exporter": "python",
   "pygments_lexer": "ipython3",
   "version": "3.10.4"
  },
  "orig_nbformat": 4,
  "vscode": {
   "interpreter": {
    "hash": "63963b3f4c440940f0b94a3100916033a226cb4f45979123153792d60aa56d6a"
   }
  }
 },
 "nbformat": 4,
 "nbformat_minor": 2
}
